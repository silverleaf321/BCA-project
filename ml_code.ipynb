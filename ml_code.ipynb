{
  "nbformat": 4,
  "nbformat_minor": 0,
  "metadata": {
    "colab": {
      "provenance": [],
      "collapsed_sections": [
        "qt6uaSgvSVc1",
        "XGVKISVSdvLB",
        "t60bxsAibadv",
        "go2_fEHXbeNS"
      ],
      "authorship_tag": "ABX9TyMErHOmfDZPipQi1tQW00C1",
      "include_colab_link": true
    },
    "kernelspec": {
      "name": "python3",
      "display_name": "Python 3"
    },
    "language_info": {
      "name": "python"
    }
  },
  "cells": [
    {
      "cell_type": "markdown",
      "metadata": {
        "id": "view-in-github",
        "colab_type": "text"
      },
      "source": [
        "<a href=\"https://colab.research.google.com/github/silverleaf321/BCA-project/blob/main/ml_code.ipynb\" target=\"_parent\"><img src=\"https://colab.research.google.com/assets/colab-badge.svg\" alt=\"Open In Colab\"/></a>"
      ]
    },
    {
      "cell_type": "markdown",
      "source": [
        "## Data"
      ],
      "metadata": {
        "id": "GXbDdMG0uO3d"
      }
    },
    {
      "cell_type": "code",
      "execution_count": 2,
      "metadata": {
        "id": "1g9IYEfzwkrA"
      },
      "outputs": [],
      "source": [
        "import pandas as pd\n",
        "\n",
        "path = \"/content/Salary_Data_cleaned.csv\"\n",
        "df = pd.read_csv(path)"
      ]
    },
    {
      "cell_type": "code",
      "source": [
        "from sklearn.model_selection import train_test_split\n",
        "\n",
        "y = df[\"Salary\"]\n",
        "X = df.drop(columns=[\"Salary\"])\n",
        "X_train, X_test, y_train, y_test = train_test_split(X, y, test_size=0.2, random_state=42)"
      ],
      "metadata": {
        "id": "heGv77VnwvMO"
      },
      "execution_count": 3,
      "outputs": []
    },
    {
      "cell_type": "code",
      "source": [
        "train_data = X_train.copy()\n",
        "train_data['Salary'] = y_train\n",
        "\n",
        "train_data = train_data.dropna(subset=['Salary'])\n",
        "X_train = train_data.drop(columns=['Salary'])\n",
        "y_train = train_data['Salary']"
      ],
      "metadata": {
        "id": "s8H6VjMykJ3H"
      },
      "execution_count": 4,
      "outputs": []
    },
    {
      "cell_type": "markdown",
      "source": [
        "## Linear Regression"
      ],
      "metadata": {
        "id": "qt6uaSgvSVc1"
      }
    },
    {
      "cell_type": "code",
      "source": [
        "# linear regression\n",
        "\n",
        "from sklearn.linear_model import LinearRegression\n",
        "model = LinearRegression()\n",
        "model.fit(X, y)\n",
        "model.score(X, y)"
      ],
      "metadata": {
        "colab": {
          "base_uri": "https://localhost:8080/"
        },
        "id": "sMY8Qe2w2-kx",
        "outputId": "0478246b-0dee-4d97-d8a6-66c002ec3539"
      },
      "execution_count": 5,
      "outputs": [
        {
          "output_type": "execute_result",
          "data": {
            "text/plain": [
              "0.7607998400275325"
            ]
          },
          "metadata": {},
          "execution_count": 5
        }
      ]
    },
    {
      "cell_type": "markdown",
      "source": [
        "## Grid Search CV"
      ],
      "metadata": {
        "id": "XGVKISVSdvLB"
      }
    },
    {
      "cell_type": "code",
      "source": [
        "from sklearn.model_selection import GridSearchCV\n",
        "from sklearn.metrics import mean_squared_error\n",
        "from xgboost import XGBRegressor\n",
        "\n",
        "param_grid = {\n",
        "    'n_estimators': [100, 200, 300],\n",
        "    'max_depth': [3, 5, 7],\n",
        "    'learning_rate': [0.01, 0.1, 0.3],\n",
        "}\n",
        "\n",
        "model = XGBRegressor()\n",
        "\n",
        "grid_search = GridSearchCV(estimator=model, param_grid=param_grid, cv=5, scoring='neg_mean_squared_error')\n",
        "grid_search.fit(X_train, y_train)\n",
        "\n",
        "best_model = grid_search.best_estimator_\n",
        "\n",
        "y_pred = best_model.predict(X_test)\n",
        "mse = mean_squared_error(y_test, y_pred)\n",
        "print(mse)"
      ],
      "metadata": {
        "id": "0v-RfG6ldxZI",
        "colab": {
          "base_uri": "https://localhost:8080/"
        },
        "outputId": "d9660175-2ebb-4aff-abdd-147224f1ecf0"
      },
      "execution_count": 8,
      "outputs": [
        {
          "output_type": "stream",
          "name": "stdout",
          "text": [
            "45441792.91581065\n"
          ]
        }
      ]
    },
    {
      "cell_type": "code",
      "source": [
        "import matplotlib.pyplot as plt\n",
        "\n",
        "plt.scatter(y_test, y_pred, color='blue', label='Predicted Salary')\n",
        "plt.plot([y_test.min(), y_test.max()], [y_test.min(), y_test.max()], 'k--', lw=2, color='red', label='Actual Salary')\n",
        "plt.xlabel('Actual Salary')\n",
        "plt.ylabel('Predicted Salary')\n",
        "plt.title('Actual Salary vs. Predicted Salary')\n",
        "plt.legend()\n",
        "plt.show()"
      ],
      "metadata": {
        "colab": {
          "base_uri": "https://localhost:8080/",
          "height": 528
        },
        "id": "DIhy7H6RkE8g",
        "outputId": "e06e948b-6cdc-4414-a8c7-a188faa617f5"
      },
      "execution_count": 9,
      "outputs": [
        {
          "output_type": "stream",
          "name": "stderr",
          "text": [
            "<ipython-input-9-5c547153c493>:4: UserWarning: color is redundantly defined by the 'color' keyword argument and the fmt string \"k--\" (-> color='k'). The keyword argument will take precedence.\n",
            "  plt.plot([y_test.min(), y_test.max()], [y_test.min(), y_test.max()], 'k--', lw=2, color='red', label='Actual Salary')\n"
          ]
        },
        {
          "output_type": "display_data",
          "data": {
            "text/plain": [
              "<Figure size 640x480 with 1 Axes>"
            ],
            "image/png": "[encoded data removed]"
          },
          "metadata": {}
        }
      ]
    },
    {
      "cell_type": "markdown",
      "source": [
        "## XGB Regression"
      ],
      "metadata": {
        "id": "t60bxsAibadv"
      }
    },
    {
      "cell_type": "code",
      "source": [
        "# xgb regression\n",
        "\n",
        "from xgboost.sklearn import XGBRegressor\n",
        "from sklearn.impute import SimpleImputer\n",
        "import xgboost as xgb\n",
        "\n",
        "model = XGBRegressor()\n",
        "model.fit(X_train, y_train)\n",
        "\n",
        "y_pred = model.predict(X_test)\n",
        "imputer = SimpleImputer(strategy = \"mean\")\n",
        "y_pred_imputed = imputer.fit_transform(y_pred.reshape(-1, 1)).flatten()\n",
        "\n",
        "from sklearn.metrics import mean_squared_error\n",
        "\n",
        "mse = mean_squared_error(y_test, y_pred_imputed)\n",
        "print(\"Mean Squared Error:\", mse)"
      ],
      "metadata": {
        "colab": {
          "base_uri": "https://localhost:8080/"
        },
        "id": "kE3ZlSzFiEb3",
        "outputId": "8588278c-0077-4fd9-d004-0bdf18bbe321"
      },
      "execution_count": 10,
      "outputs": [
        {
          "output_type": "stream",
          "name": "stdout",
          "text": [
            "Mean Squared Error: 49903904.96024735\n"
          ]
        }
      ]
    },
    {
      "cell_type": "markdown",
      "source": [
        "## Logistic Regression"
      ],
      "metadata": {
        "id": "go2_fEHXbeNS"
      }
    },
    {
      "cell_type": "code",
      "source": [
        "# # logistic regression - actually for classification, hence why it doesn't work\n",
        "\n",
        "# from sklearn.linear_model import LogisticRegression\n",
        "# model = LogisticRegression(max_iter = 200)\n",
        "# model.fit(X, y)\n",
        "# model.score(X, y)"
      ],
      "metadata": {
        "id": "uMQYUTet-BOu"
      },
      "execution_count": null,
      "outputs": []
    },
    {
      "cell_type": "markdown",
      "source": [
        "## Decision Tree"
      ],
      "metadata": {
        "id": "XPSVoUhscRtV"
      }
    },
    {
      "cell_type": "code",
      "source": [
        "# decision tree\n",
        "\n",
        "from sklearn.tree import DecisionTreeRegressor\n",
        "from sklearn.metrics import r2_score\n",
        "\n",
        "model = DecisionTreeRegressor(random_state = 42)\n",
        "model.fit(X_train, y_train)\n",
        "y_pred2 = model.predict(X_test)\n",
        "mse = mean_squared_error(y_test, y_pred)\n",
        "r2 = r2_score(y_test, y_pred)\n",
        "\n",
        "print(mse)\n",
        "print(r2)\n",
        "\n",
        "# random forest might get an even better score"
      ],
      "metadata": {
        "id": "9OAlI2T6RxOu",
        "colab": {
          "base_uri": "https://localhost:8080/"
        },
        "outputId": "7e832a8c-4dd8-485e-e32b-9dddcefeb71a"
      },
      "execution_count": 12,
      "outputs": [
        {
          "output_type": "stream",
          "name": "stdout",
          "text": [
            "49903904.96024735\n",
            "0.9813254167523859\n"
          ]
        }
      ]
    },
    {
      "cell_type": "markdown",
      "source": [
        "## Random Forest"
      ],
      "metadata": {
        "id": "bPf_eo6U2im3"
      }
    },
    {
      "cell_type": "code",
      "source": [],
      "metadata": {
        "id": "CiSx5yE02h3m"
      },
      "execution_count": null,
      "outputs": []
    }
  ]
}